{
 "cells": [
  {
   "cell_type": "markdown",
   "metadata": {},
   "source": [
    "# Домашнее задание 1 (NumPy, Pandas, Matplotlib)\n",
    "\n",
    "## Общая информация\n",
    "**Дата выдачи**: 31.01.2018\n",
    "\n",
    "**Срок сдачи**: 23:59 13.02.2018\n",
    "\n",
    "**О задании**\n",
    "\n",
    "Домашнее задание №1 ориентировано на более тесное знакомство с модулями NumPy, Pandas и Matplotlib путём решения набора задач. Целью задания является редактирование данного ipython notebook'a (в части блоков с кодом на python) таким образом, чтобы были реализованы указанные в задании функции.\n",
    "\n",
    "**Оценивание и штрафы**\n",
    "\n",
    "Каждая из задач имеет определенную «стоимость» (указана в скобках около задачи), оценка за задание выставляется следующим образом:\n",
    "Оценка за задание = Сумма баллов за решенные задачи/3\n",
    "\n",
    "Таким образом, максимально допустимая оценка за задание — 10 баллов.\n",
    "\n",
    "За сдачу задания позже срока на итоговую оценку за задание накладывается штраф в размере 0.2 балла в день, но получить отрицательное число баллов нельзя. При выставлении неполного балла за задание в связи с наличием ошибок на усмотрение проверяющего предусмотрена возможность исправить задание на указанных в ответном письме условиях.\n",
    "\n",
    "Задание выполняется **САМОСТОЯТЕЛЬНО**. «Похожие» решения считаются плагиатом и все задействованные студенты (в том числе те, у кого списали) не могут получить за него больше 0 баллов.\n",
    "\n",
    "**Формат сдачи**\n",
    "\n",
    "Для сдачи задания переименуйте получившийся файл \\*.ipynb в соответствии со следующим форматом: HW1_Username.ipynb, где Username — Ваша фамилия на латинице. Далее отправьте этот файл на почту курса ( hse.minor.dm+<номер группы>@gmail.com, указав в теме письма \"[ИАД-1] Задание N, ФИО\")"
   ]
  },
  {
   "cell_type": "code",
   "execution_count": 57,
   "metadata": {
    "collapsed": true
   },
   "outputs": [],
   "source": [
    "import numpy as np\n",
    "import pandas as pd\n",
    "%matplotlib inline\n",
    "import matplotlib.pyplot as plt"
   ]
  },
  {
   "cell_type": "markdown",
   "metadata": {},
   "source": [
    "\n",
    "\n",
    "## Инструкция по установке на Windows:\n",
    "\n",
    "Для установки всех необходимых библиотек на windows рекомендуется поставить дистрибутив Anaconda. Для этого нужно\n",
    "просто скачать необходимую версия с официального сайта https://www.continuum.io/downloads (мы рекомендуем ставить\n",
    "python версии 3.x). После установки дистрибутива необходимо запустить командную строку (для этого можно нажать win+R и набрать команду cmd). Затем, для запуска ipython notebook'а достаточно просто написать ipython notebook в\n",
    "командной строке, и у вашем браузере откроется стандартная страничка, которую вы уже много раз видели, используя\n",
    "виртуальную машину.\n",
    "\n",
    "## Инструкция по установке на Linux/Mac OS:\n",
    "\n",
    "Под Linux и Mac OS также доступен дистрибутив Anaconda, который можно скачать с https://www.continuum.io/downloads.\n",
    "Дальше опять же вам нужно открыть терминал и набрать там команду ipython notebook (либо возможно ipython3\n",
    "notebook).\n",
    "\n",
    "Если же вам по каким-либо причинам не хочется ставить Anaconda (например, вы не хотите, чтобы у вас появлялась еще\n",
    "одна версия python и были возможные конфликты путей, или вы просто чувствуете в себе Силу и хотите все поставить\n",
    "сами), то можно установить все необходимые библиотеки напрямую. Для этого выполните в терминале следующие две\n",
    "команды:\n",
    "\n",
    "```bash\n",
    "sudo apt-get install -y build-essential python3-numpy python3-scipy python3-matplotlib ipython3 \n",
    "ipython3-notebook python3-pandas python3-sympy python3-nose python3-pip swig\n",
    "\n",
    "sudo pip3 install cython scikit-image scikit-learn jupyter\n",
    "```\n",
    "Для Mac OS в первой команде нужно заменить apt-get на brew (если у вас стоит пакетный менеджер homebrew, если нет,\n",
    "его нужно предварительно установить). Если вы хотите использовать python версии 2.x, то во всех командах выше\n",
    "необходимо убрать цифру 3. То есть, например, писать не python3-numpy, а python-numpy, или не pip3 install, а pip\n",
    "install.\n",
    "    \n",
    "Также, можно воспользоваться инструкциями, описанными здесь:\n",
    "http://www.machinelearning.ru/wiki/images/1/10/MMP_Praktikum_317_2014a_Python.pdf\n",
    "\n",
    "Установка Python и всех необходимых модулей не является обязательной для сдачи данного задания."
   ]
  },
  {
   "cell_type": "code",
   "execution_count": 2,
   "metadata": {
    "collapsed": true
   },
   "outputs": [],
   "source": [
    "# Не забудьте импортировать все необходимые модуля для выполнения заданий"
   ]
  },
  {
   "cell_type": "markdown",
   "metadata": {},
   "source": [
    "## NumPy\n",
    "\n",
    "При решении задач запрещено использовать циклы. Обратите внимание на функции и методы np.max, np.min, np.arange, np.hstack, np.roll, np.random.uniform, np.random.rand, np.newaxis."
   ]
  },
  {
   "cell_type": "markdown",
   "metadata": {},
   "source": [
    "#### 1. (1 балл) Написать функцию, которая принимает на вход два целочисленных массива одинаковой длины, и возвращает минимальный и максимальный из тех элементов этих двух массивов у которых совпадает и позиция и значение (то есть из всех элементов $\\{a[i]: a[i] = b[i]\\}$)\n",
    "\n",
    "    Например, для a = np.array([4, 2, 6, 3]) и b = np.array([4, 3, 6, -3]) ответом является кортеж (4, 6)."
   ]
  },
  {
   "cell_type": "code",
   "execution_count": 4,
   "metadata": {},
   "outputs": [
    {
     "data": {
      "text/plain": [
       "(4, 6)"
      ]
     },
     "execution_count": 4,
     "metadata": {},
     "output_type": "execute_result"
    }
   ],
   "source": [
    "def minMaxEqual(a, b):\n",
    "    c=np.array(a[a==b])\n",
    "    minimax=(np.min(c), np.max(c))\n",
    "    return(minimax)\n",
    "minMaxEqual(np.array([4, 2, 6, 3]), np.array([4, 3, 6, -3]))"
   ]
  },
  {
   "cell_type": "markdown",
   "metadata": {},
   "source": [
    "#### 2. (2 балла) Дан numpy-вектор v длины n+1, который задает полином степени n. Найти вторую производную этого полинома (Например np.array([3, 0, 7, 1]) соответствует полиному 3+7x^2+x^3)\n",
    "\n",
    "    Для вектора из примера функция должна будет выдавать np.array([14, 6])"
   ]
  },
  {
   "cell_type": "code",
   "execution_count": 61,
   "metadata": {
    "scrolled": false
   },
   "outputs": [
    {
     "name": "stderr",
     "output_type": "stream",
     "text": [
      "C:\\Users\\lenovo\\Anaconda3\\lib\\site-packages\\ipykernel_launcher.py:14: FutureWarning: in the future insert will treat boolean arrays and array-likes as boolean index instead of casting it to integer\n",
      "  \n"
     ]
    },
    {
     "data": {
      "text/plain": [
       "array([[14,  6]])"
      ]
     },
     "execution_count": 61,
     "metadata": {},
     "output_type": "execute_result"
    }
   ],
   "source": [
    "\n",
    "#x=np.array([3, 1, 5, 7, 8])\n",
    "#polynome=np.vstack((x, np.arange(0,5)))\n",
    "#print(polynome)\n",
    "#polynome[0],polynome[1]=polynome[0]*polynome[1],polynome[1]-1\n",
    "#print(polynome)\n",
    "#polynome[0],polynome[1]=polynome[0]*polynome[1],polynome[1]-1\n",
    "#print(polynome)\n",
    "#np.delete(polynome, polynome[1]<0, axis=1)\n",
    "def second_derivative(v):\n",
    "    polynome=np.vstack((v, np.arange(0,len(v))))\n",
    "    polynome[0],polynome[1]=polynome[0]*polynome[1],polynome[1]-1\n",
    "    polynome[0],polynome[1]=polynome[0]*polynome[1],polynome[1]-1\n",
    "    new_polynome=np.delete(polynome, polynome[1]<0, axis=1)\n",
    "    new_polynome=np.delete(new_polynome, np.arange(1,len(new_polynome[0])), axis=0)\n",
    "    return new_polynome\n",
    "second_derivative(np.array([3, 0, 7, 1]))"
   ]
  },
  {
   "cell_type": "markdown",
   "metadata": {},
   "source": [
    "#### 3. (1 балл) Дана матрица X и два вектора одинаковой длины i и j. Написать функцию, которая возвращает вектор np.array, состоящий из последовательности элементов $[X[i[0], j[0]], X[i[1], j[1]], ..., X[i[N-1], j[N-1]]]$. "
   ]
  },
  {
   "cell_type": "code",
   "execution_count": 163,
   "metadata": {
    "scrolled": true
   },
   "outputs": [
    {
     "data": {
      "text/plain": [
       "[8, 4, 8, 2, 6]"
      ]
     },
     "execution_count": 163,
     "metadata": {},
     "output_type": "execute_result"
    }
   ],
   "source": [
    "def constructArray(X, i, j):\n",
    "    result=[X[i[n]][j[n]] for n in range(len(i))]\n",
    "    return result\n",
    "constructArray(np.array([[0, 1, 2, 3, 4], [5, 6, 7, 8, 9], [10, 11, 12, 13, 14]]), np.array([1, 0, 1, 0, 1]), np.array([3, 4, 3, 2, 1]))"
   ]
  },
  {
   "cell_type": "markdown",
   "metadata": {},
   "source": [
    "#### 4. (2 балла) Написать функцию, возвращающую максимальный элемент в векторе x среди элементов, перед которыми стоит нулевой.\n",
    "\n",
    "    Для x = np.array([6, 2, 0, 3, 0, 0, 5, 7, 0]) ответом является 5."
   ]
  },
  {
   "cell_type": "code",
   "execution_count": 62,
   "metadata": {
    "scrolled": true
   },
   "outputs": [
    {
     "data": {
      "text/plain": [
       "5"
      ]
     },
     "execution_count": 62,
     "metadata": {},
     "output_type": "execute_result"
    }
   ],
   "source": [
    "def prevZeroMax(x):\n",
    "    x= np.array(x[:-1])\n",
    "    y=np.where(x==0)\n",
    "    z=np.array(y[0]+1)\n",
    "    a=np.array(x[z])\n",
    "    b=np.max(a)\n",
    "    return b\n",
    "prevZeroMax(np.array([6, 2, 0, 3, 0, 0, 5, 7, 0]))"
   ]
  },
  {
   "cell_type": "markdown",
   "metadata": {},
   "source": [
    "#### 5. (2 балла) Напишите функцию, которая принимает параметры lims: ndarray размерности 2, k: float, b: float, n: int, noise_level: float и возвращает выборку из n объектов, сгенерированную по правилу y = kx + b + U[-noise_level; noise_level]. x генерируется равномерно из U[lims[0]; lims[1]] (U[a, b] — равномерное распределение на [a, b]). Функция должна возвращать кортеж, первым элементом которого будет массив x, и вторым элементом массив y — значения функции в точках этого массива."
   ]
  },
  {
   "cell_type": "code",
   "execution_count": 4,
   "metadata": {
    "scrolled": false
   },
   "outputs": [
    {
     "data": {
      "text/plain": [
       "([2.9951481738050907,\n",
       "  2.6333702349645858,\n",
       "  2.595507004226103,\n",
       "  2.91368935996644,\n",
       "  2.313842747575954,\n",
       "  2.554650524799809,\n",
       "  2.8827105029711797,\n",
       "  2.010108858972955,\n",
       "  2.8574201788174376],\n",
       " [6.19457508763713,\n",
       "  6.3429635666541575,\n",
       "  3.8547729981114296,\n",
       "  5.871176374890907,\n",
       "  4.77048215850448,\n",
       "  5.292633376333822,\n",
       "  4.203446589025395,\n",
       "  3.470107878120491,\n",
       "  5.0389039046996285])"
      ]
     },
     "execution_count": 4,
     "metadata": {},
     "output_type": "execute_result"
    }
   ],
   "source": [
    "def gen_data(lims, k, b, n, noise_level):\n",
    "    xdata=[float(np.random.uniform(lims[0],lims[1])) for a in range(1, n)]\n",
    "    ydata=[float(k*x+b+np.random.uniform(-noise_level, noise_level)) for x in xdata]\n",
    "    return((xdata, ydata))\n",
    "gen_data(np.array([[2], [3]]),1.7, 0.4, 10, 1.7)"
   ]
  },
  {
   "cell_type": "markdown",
   "metadata": {},
   "source": [
    "#### 6. (2 балла) Напишите функцию, которая вычисляет следующее матричное произведение: $x * x.T + a * I + b$. Здесь x и b — массивы np.array размерности N (одномерные, считаются вектор-столбцом). a — число, I — матрица, состоящая единиц на главной диагонали и нулей в остальных местах (единичная матрица). Сложение вектора b с матрицей x * x.T должно осуществляться по столбцам (вектор b должен прибавиться к каждому столбцу матрицы независимо).\n",
    "\n",
    "    Например, для x = np.array([[1],[2],[3]]), b = np.array([0, -2, 1]), a = 4.5 функция должна выдавать \n",
    "    np.array([[5.5, 2.0, 3.0], [0.0, 6.5, 4.0], [4.0, 7.0, 14.5]])\n",
    "$x*x.T$ - матричное произведение"
   ]
  },
  {
   "cell_type": "code",
   "execution_count": 40,
   "metadata": {},
   "outputs": [
    {
     "data": {
      "text/plain": [
       "array([[  5.5,   2. ,   3. ],\n",
       "       [  0. ,   6.5,   4. ],\n",
       "       [  4. ,   7. ,  14.5]])"
      ]
     },
     "execution_count": 40,
     "metadata": {},
     "output_type": "execute_result"
    }
   ],
   "source": [
    "def calc_value(x, b, a):\n",
    "    b = b[:, np.newaxis]\n",
    "    I=np.eye(len(x))\n",
    "    result=x*x.T+a*I+b\n",
    "    return result\n",
    "calc_value(np.array([[1],[2],[3]]), np.array([0, -2, 1]), 4.5)"
   ]
  },
  {
   "cell_type": "markdown",
   "metadata": {},
   "source": [
    "## Pandas\n",
    "\n",
    "\n",
    "Вам предстоит ответить на ряд вопросов о пассажирах Титаника.\n",
    "\n",
    "Данные: http://www.machinelearning.ru/wiki/images/3/32/Titanic.zip\n",
    "\n",
    "Описание датасета: https://www.kaggle.com/c/titanic/data\n",
    "\n",
    "Обратите внимание на функции и методы pd.read_csv, pd.DataFrame{ .head, .shape, .groupby, .fillna }, pd.Series{ .min, .max, .mean, .shape, .std, .corr }"
   ]
  },
  {
   "cell_type": "markdown",
   "metadata": {},
   "source": [
    "#### 0. (0.5 балла) Загрузите данные в DataFrame и выведите его. Также напечатайте количество объектов и количество признаков (используйте функцию print):"
   ]
  },
  {
   "cell_type": "code",
   "execution_count": 8,
   "metadata": {
    "collapsed": true
   },
   "outputs": [],
   "source": [
    "data1=pd.read_csv(\"titanic_train.csv\")"
   ]
  },
  {
   "cell_type": "markdown",
   "metadata": {},
   "source": [
    "#### 1. (0.5 балла) Какие встречаются типы признаков? Придумайте постановку трех задач, которые можно решать, используя полученные данные: классификации, регрессии и кластеризации."
   ]
  },
  {
   "cell_type": "code",
   "execution_count": 39,
   "metadata": {
    "collapsed": true
   },
   "outputs": [],
   "source": [
    "#типы признаков - бинарные (например, \"Survived\"), вещественные (например, \"Age\"), \n",
    "#порядковые признаки (например, \"Pclass\", \"Sex\"), категориальные признаки (например, \"Name\").\n",
    "#регрессия - по возрасту предсказать, в какой класс пассажир купил билет\n",
    "#классификация - по имени пассажира определить пол\n",
    "#кластеризация - выделить основные возрастные группы пассажиров, основные ценовые диапазоны"
   ]
  },
  {
   "cell_type": "markdown",
   "metadata": {},
   "source": [
    "#### 2. (0.5 балла) Сохраните в переменную firstclass_num количество пассажиров, которые ехали первым классом, и выведите ее с помощью функции print()."
   ]
  },
  {
   "cell_type": "code",
   "execution_count": 74,
   "metadata": {},
   "outputs": [
    {
     "name": "stdout",
     "output_type": "stream",
     "text": [
      "216\n"
     ]
    }
   ],
   "source": [
    "firstclass_num = sum(data1['Pclass']==1)\n",
    "print(firstclass_num)"
   ]
  },
  {
   "cell_type": "markdown",
   "metadata": {},
   "source": [
    "#### 3. (0.5 балла) Выведите минимальный, максимальный и средний возраст пассажиров."
   ]
  },
  {
   "cell_type": "code",
   "execution_count": 16,
   "metadata": {},
   "outputs": [
    {
     "name": "stdout",
     "output_type": "stream",
     "text": [
      "80.0 0.42 29.69911764705882\n"
     ]
    }
   ],
   "source": [
    "maxage=data1['Age'].max()\n",
    "minage=data1['Age'].min()\n",
    "avage=data1['Age'].mean()\n",
    "print(maxage, minage, avage)"
   ]
  },
  {
   "cell_type": "markdown",
   "metadata": {},
   "source": [
    "#### 4. (1 балл) Напечатайте стандартное отклонение цены билетов на Титаник"
   ]
  },
  {
   "cell_type": "code",
   "execution_count": 17,
   "metadata": {},
   "outputs": [
    {
     "name": "stdout",
     "output_type": "stream",
     "text": [
      "49.693428597180905\n"
     ]
    }
   ],
   "source": [
    "stdev=data1['Fare'].std()\n",
    "print(stdev)"
   ]
  },
  {
   "cell_type": "markdown",
   "metadata": {},
   "source": [
    "#### 5. (1 балл) Посчитайте коэффициент корреляции ценой на билет и возрастом пассажиров."
   ]
  },
  {
   "cell_type": "code",
   "execution_count": 28,
   "metadata": {
    "scrolled": true
   },
   "outputs": [
    {
     "name": "stdout",
     "output_type": "stream",
     "text": [
      "1.0\n"
     ]
    }
   ],
   "source": [
    "needed=data1[['Fare', 'Age']]\n",
    "a=np.corrcoef(needed['Age'], needed['Fare'])[1,1]\n",
    "print(a)"
   ]
  },
  {
   "cell_type": "markdown",
   "metadata": {},
   "source": [
    "#### 6. (2 балла) Создайте DataFrame в котором будет находиться средний возраст выживших пассажиров по каждому классу. Ваш код должен быть масштабируемым (то есть, должен работать при добавлении новых классов к исходному DataFrame'у)."
   ]
  },
  {
   "cell_type": "code",
   "execution_count": 18,
   "metadata": {},
   "outputs": [
    {
     "name": "stdout",
     "output_type": "stream",
     "text": [
      "Pclass\n",
      "1    35.368197\n",
      "2    25.901566\n",
      "3    20.646118\n",
      "Name: Age, dtype: float64\n"
     ]
    }
   ],
   "source": [
    "Survpassengers0=data1[data1['Survived']==1]\n",
    "Survpassengers=Survpassengers0[['Pclass', 'Age']]\n",
    "Survpassmean=Survpassengers.groupby('Pclass')['Age'].mean()\n",
    "print(Survpassmean)"
   ]
  },
  {
   "cell_type": "markdown",
   "metadata": {},
   "source": [
    "#### 7. (2 балла) Посчитайте какой части пассажиров удалось выжить. Посчитайте отношение количества выживших мужчин к количеству выживших женщинам."
   ]
  },
  {
   "cell_type": "code",
   "execution_count": 96,
   "metadata": {
    "scrolled": true
   },
   "outputs": [
    {
     "name": "stdout",
     "output_type": "stream",
     "text": [
      "Доля выживших пассажиров:  0.383838383838\n",
      "Кол-во выживших мужчин к выжившим женщинам:  0.467811158798\n"
     ]
    }
   ],
   "source": [
    "survived=data1['Survived'].sum()\n",
    "total=data1['Survived'].count()\n",
    "surv_ratio=survived/total\n",
    "print('Доля выживших пассажиров: ', str(surv_ratio))\n",
    "survwomen=sum(Survpassengers0['Sex']=='female')\n",
    "survmen=sum(Survpassengers0['Sex']=='male')\n",
    "print('Кол-во выживших мужчин к выжившим женщинам: ', str(survmen/survwomen))"
   ]
  },
  {
   "cell_type": "markdown",
   "metadata": {},
   "source": [
    "#### 8. (1 балл) Верно ли, что чаще выживали пассажиры с более дорогими билетами? Кратко опишите в комментариях к коду, какие величины вы хотите посчитать, чтобы ответить на этот вопрос."
   ]
  },
  {
   "cell_type": "code",
   "execution_count": 142,
   "metadata": {
    "collapsed": true,
    "scrolled": true
   },
   "outputs": [],
   "source": [
    "surv=data1[data1['Survived']==1]\n",
    "dead=data1[data1['Survived']==0]\n",
    "survcount=surv.groupby('Fare')['Survived'].value_counts()\n",
    "deadcount=dead.groupby('Fare')['Survived'].value_counts()\n",
    "#для каждой цены необходимо посмотреть отношение выживших ко всем купившим билет по данной цене.\n",
    "#Если дробь будет увеличиваться, значит, предположение верно"
   ]
  },
  {
   "cell_type": "markdown",
   "metadata": {},
   "source": [
    "#### 9. (1 балл) Замените все NaN в колонке Age на средние значения возраста по всем пассажирам."
   ]
  },
  {
   "cell_type": "code",
   "execution_count": 51,
   "metadata": {},
   "outputs": [
    {
     "name": "stdout",
     "output_type": "stream",
     "text": [
      "29.69911764705882\n",
      "     PassengerId   Survived     Pclass  \\\n",
      "0       1.000000  29.699118  29.699118   \n",
      "1       2.000000  29.699118  29.699118   \n",
      "2       3.000000  29.699118  29.699118   \n",
      "3       4.000000  29.699118  29.699118   \n",
      "4       5.000000  29.699118  29.699118   \n",
      "5      29.699118  29.699118  29.699118   \n",
      "6       7.000000  29.699118  29.699118   \n",
      "7       8.000000  29.699118  29.699118   \n",
      "8       9.000000  29.699118  29.699118   \n",
      "9      10.000000  29.699118  29.699118   \n",
      "10     11.000000  29.699118  29.699118   \n",
      "11     12.000000  29.699118  29.699118   \n",
      "12     13.000000  29.699118  29.699118   \n",
      "13     14.000000  29.699118  29.699118   \n",
      "14     15.000000  29.699118  29.699118   \n",
      "15     16.000000  29.699118  29.699118   \n",
      "16     17.000000  29.699118  29.699118   \n",
      "17     29.699118  29.699118  29.699118   \n",
      "18     19.000000  29.699118  29.699118   \n",
      "19     29.699118  29.699118  29.699118   \n",
      "20     21.000000  29.699118  29.699118   \n",
      "21     22.000000  29.699118  29.699118   \n",
      "22     23.000000  29.699118  29.699118   \n",
      "23     24.000000  29.699118  29.699118   \n",
      "24     25.000000  29.699118  29.699118   \n",
      "25     26.000000  29.699118  29.699118   \n",
      "26     29.699118  29.699118  29.699118   \n",
      "27     28.000000  29.699118  29.699118   \n",
      "28     29.699118  29.699118  29.699118   \n",
      "29     29.699118  29.699118  29.699118   \n",
      "..           ...        ...        ...   \n",
      "861   862.000000  29.699118  29.699118   \n",
      "862   863.000000  29.699118  29.699118   \n",
      "863    29.699118  29.699118  29.699118   \n",
      "864   865.000000  29.699118  29.699118   \n",
      "865   866.000000  29.699118  29.699118   \n",
      "866   867.000000  29.699118  29.699118   \n",
      "867   868.000000  29.699118  29.699118   \n",
      "868    29.699118  29.699118  29.699118   \n",
      "869   870.000000  29.699118  29.699118   \n",
      "870   871.000000  29.699118  29.699118   \n",
      "871   872.000000  29.699118  29.699118   \n",
      "872   873.000000  29.699118  29.699118   \n",
      "873   874.000000  29.699118  29.699118   \n",
      "874   875.000000  29.699118  29.699118   \n",
      "875   876.000000  29.699118  29.699118   \n",
      "876   877.000000  29.699118  29.699118   \n",
      "877   878.000000  29.699118  29.699118   \n",
      "878    29.699118  29.699118  29.699118   \n",
      "879   880.000000  29.699118  29.699118   \n",
      "880   881.000000  29.699118  29.699118   \n",
      "881   882.000000  29.699118  29.699118   \n",
      "882   883.000000  29.699118  29.699118   \n",
      "883   884.000000  29.699118  29.699118   \n",
      "884   885.000000  29.699118  29.699118   \n",
      "885   886.000000  29.699118  29.699118   \n",
      "886   887.000000  29.699118  29.699118   \n",
      "887   888.000000  29.699118  29.699118   \n",
      "888    29.699118  29.699118  29.699118   \n",
      "889   890.000000  29.699118  29.699118   \n",
      "890   891.000000  29.699118  29.699118   \n",
      "\n",
      "                                                  Name        Sex        Age  \\\n",
      "0                              Braund, Mr. Owen Harris  29.699118  22.000000   \n",
      "1    Cumings, Mrs. John Bradley (Florence Briggs Th...  29.699118  38.000000   \n",
      "2                               Heikkinen, Miss. Laina  29.699118  26.000000   \n",
      "3         Futrelle, Mrs. Jacques Heath (Lily May Peel)  29.699118  35.000000   \n",
      "4                             Allen, Mr. William Henry  29.699118  35.000000   \n",
      "5                                              29.6991  29.699118  29.699118   \n",
      "6                              McCarthy, Mr. Timothy J  29.699118  54.000000   \n",
      "7                       Palsson, Master. Gosta Leonard  29.699118   2.000000   \n",
      "8    Johnson, Mrs. Oscar W (Elisabeth Vilhelmina Berg)  29.699118  27.000000   \n",
      "9                  Nasser, Mrs. Nicholas (Adele Achem)  29.699118  14.000000   \n",
      "10                     Sandstrom, Miss. Marguerite Rut  29.699118   4.000000   \n",
      "11                            Bonnell, Miss. Elizabeth  29.699118  58.000000   \n",
      "12                      Saundercock, Mr. William Henry  29.699118  20.000000   \n",
      "13                         Andersson, Mr. Anders Johan  29.699118  39.000000   \n",
      "14                Vestrom, Miss. Hulda Amanda Adolfina  29.699118  14.000000   \n",
      "15                    Hewlett, Mrs. (Mary D Kingcome)   29.699118  55.000000   \n",
      "16                                Rice, Master. Eugene  29.699118   2.000000   \n",
      "17                                             29.6991  29.699118  29.699118   \n",
      "18   Vander Planke, Mrs. Julius (Emelia Maria Vande...  29.699118  31.000000   \n",
      "19                                             29.6991  29.699118  29.699118   \n",
      "20                                Fynney, Mr. Joseph J  29.699118  35.000000   \n",
      "21                               Beesley, Mr. Lawrence  29.699118  34.000000   \n",
      "22                         McGowan, Miss. Anna \"Annie\"  29.699118  15.000000   \n",
      "23                        Sloper, Mr. William Thompson  29.699118  28.000000   \n",
      "24                       Palsson, Miss. Torborg Danira  29.699118   8.000000   \n",
      "25   Asplund, Mrs. Carl Oscar (Selma Augusta Emilia...  29.699118  38.000000   \n",
      "26                                             29.6991  29.699118  29.699118   \n",
      "27                      Fortune, Mr. Charles Alexander  29.699118  19.000000   \n",
      "28                                             29.6991  29.699118  29.699118   \n",
      "29                                             29.6991  29.699118  29.699118   \n",
      "..                                                 ...        ...        ...   \n",
      "861                        Giles, Mr. Frederick Edward  29.699118  21.000000   \n",
      "862  Swift, Mrs. Frederick Joel (Margaret Welles Ba...  29.699118  48.000000   \n",
      "863                                            29.6991  29.699118  29.699118   \n",
      "864                             Gill, Mr. John William  29.699118  24.000000   \n",
      "865                           Bystrom, Mrs. (Karolina)  29.699118  42.000000   \n",
      "866                       Duran y More, Miss. Asuncion  29.699118  27.000000   \n",
      "867               Roebling, Mr. Washington Augustus II  29.699118  31.000000   \n",
      "868                                            29.6991  29.699118  29.699118   \n",
      "869                    Johnson, Master. Harold Theodor  29.699118   4.000000   \n",
      "870                                  Balkic, Mr. Cerin  29.699118  26.000000   \n",
      "871   Beckwith, Mrs. Richard Leonard (Sallie Monypeny)  29.699118  47.000000   \n",
      "872                           Carlsson, Mr. Frans Olof  29.699118  33.000000   \n",
      "873                        Vander Cruyssen, Mr. Victor  29.699118  47.000000   \n",
      "874              Abelson, Mrs. Samuel (Hannah Wizosky)  29.699118  28.000000   \n",
      "875                   Najib, Miss. Adele Kiamie \"Jane\"  29.699118  15.000000   \n",
      "876                      Gustafsson, Mr. Alfred Ossian  29.699118  20.000000   \n",
      "877                               Petroff, Mr. Nedelio  29.699118  19.000000   \n",
      "878                                            29.6991  29.699118  29.699118   \n",
      "879      Potter, Mrs. Thomas Jr (Lily Alexenia Wilson)  29.699118  56.000000   \n",
      "880       Shelley, Mrs. William (Imanita Parrish Hall)  29.699118  25.000000   \n",
      "881                                 Markun, Mr. Johann  29.699118  33.000000   \n",
      "882                       Dahlberg, Miss. Gerda Ulrika  29.699118  22.000000   \n",
      "883                      Banfield, Mr. Frederick James  29.699118  28.000000   \n",
      "884                             Sutehall, Mr. Henry Jr  29.699118  25.000000   \n",
      "885               Rice, Mrs. William (Margaret Norton)  29.699118  39.000000   \n",
      "886                              Montvila, Rev. Juozas  29.699118  27.000000   \n",
      "887                       Graham, Miss. Margaret Edith  29.699118  19.000000   \n",
      "888                                            29.6991  29.699118  29.699118   \n",
      "889                              Behr, Mr. Karl Howell  29.699118  26.000000   \n",
      "890                                Dooley, Mr. Patrick  29.699118  32.000000   \n",
      "\n",
      "         SibSp      Parch            Ticket        Fare        Cabin  \\\n",
      "0    29.699118  29.699118         A/5 21171   29.699118      29.6991   \n",
      "1    29.699118  29.699118          PC 17599   71.283300          C85   \n",
      "2    29.699118  29.699118  STON/O2. 3101282    7.925000      29.6991   \n",
      "3    29.699118  29.699118            113803   53.100000         C123   \n",
      "4    29.699118  29.699118            373450   29.699118      29.6991   \n",
      "5    29.699118  29.699118           29.6991   29.699118      29.6991   \n",
      "6    29.699118  29.699118             17463   29.699118          E46   \n",
      "7    29.699118  29.699118            349909   21.075000      29.6991   \n",
      "8    29.699118  29.699118            347742   11.133300      29.6991   \n",
      "9    29.699118  29.699118            237736   30.070800      29.6991   \n",
      "10   29.699118  29.699118           PP 9549   16.700000           G6   \n",
      "11   29.699118  29.699118            113783   29.699118         C103   \n",
      "12   29.699118  29.699118         A/5. 2151   29.699118      29.6991   \n",
      "13   29.699118   5.000000            347082   31.275000      29.6991   \n",
      "14   29.699118  29.699118            350406    7.854200      29.6991   \n",
      "15   29.699118  29.699118            248706   16.000000      29.6991   \n",
      "16    4.000000  29.699118            382652   29.125000      29.6991   \n",
      "17   29.699118  29.699118           29.6991   29.699118      29.6991   \n",
      "18   29.699118  29.699118            345763   18.000000      29.6991   \n",
      "19   29.699118  29.699118           29.6991   29.699118      29.6991   \n",
      "20   29.699118  29.699118            239865   29.699118      29.6991   \n",
      "21   29.699118  29.699118            248698   29.699118          D56   \n",
      "22   29.699118  29.699118            330923    8.029200      29.6991   \n",
      "23   29.699118  29.699118            113788   29.699118           A6   \n",
      "24   29.699118  29.699118            349909   21.075000      29.6991   \n",
      "25   29.699118   5.000000            347077   31.387500      29.6991   \n",
      "26   29.699118  29.699118           29.6991   29.699118      29.6991   \n",
      "27   29.699118  29.699118             19950  263.000000  C23 C25 C27   \n",
      "28   29.699118  29.699118           29.6991   29.699118      29.6991   \n",
      "29   29.699118  29.699118           29.6991   29.699118      29.6991   \n",
      "..         ...        ...               ...         ...          ...   \n",
      "861  29.699118  29.699118             28134   11.500000      29.6991   \n",
      "862  29.699118  29.699118             17466   25.929200          D17   \n",
      "863  29.699118  29.699118           29.6991   29.699118      29.6991   \n",
      "864  29.699118  29.699118            233866   29.699118      29.6991   \n",
      "865  29.699118  29.699118            236852   29.699118      29.6991   \n",
      "866  29.699118  29.699118     SC/PARIS 2149   13.858300      29.6991   \n",
      "867  29.699118  29.699118          PC 17590   50.495800          A24   \n",
      "868  29.699118  29.699118           29.6991   29.699118      29.6991   \n",
      "869  29.699118  29.699118            347742   11.133300      29.6991   \n",
      "870  29.699118  29.699118            349248   29.699118      29.6991   \n",
      "871  29.699118  29.699118             11751   52.554200          D35   \n",
      "872  29.699118  29.699118               695    5.000000  B51 B53 B55   \n",
      "873  29.699118  29.699118            345765    9.000000      29.6991   \n",
      "874  29.699118  29.699118         P/PP 3381   24.000000      29.6991   \n",
      "875  29.699118  29.699118              2667   29.699118      29.6991   \n",
      "876  29.699118  29.699118              7534    9.845800      29.6991   \n",
      "877  29.699118  29.699118            349212   29.699118      29.6991   \n",
      "878  29.699118  29.699118           29.6991   29.699118      29.6991   \n",
      "879  29.699118  29.699118             11767   83.158300          C50   \n",
      "880  29.699118  29.699118            230433   29.699118      29.6991   \n",
      "881  29.699118  29.699118            349257   29.699118      29.6991   \n",
      "882  29.699118  29.699118              7552   10.516700      29.6991   \n",
      "883  29.699118  29.699118  C.A./SOTON 34068   10.500000      29.6991   \n",
      "884  29.699118  29.699118   SOTON/OQ 392076   29.699118      29.6991   \n",
      "885  29.699118   5.000000            382652   29.125000      29.6991   \n",
      "886  29.699118  29.699118            211536   29.699118      29.6991   \n",
      "887  29.699118  29.699118            112053   29.699118          B42   \n",
      "888  29.699118  29.699118           29.6991   29.699118      29.6991   \n",
      "889  29.699118  29.699118            111369   29.699118         C148   \n",
      "890  29.699118  29.699118            370376   29.699118      29.6991   \n",
      "\n",
      "      Embarked  \n",
      "0    29.699118  \n",
      "1    29.699118  \n",
      "2    29.699118  \n",
      "3    29.699118  \n",
      "4    29.699118  \n",
      "5    29.699118  \n",
      "6    29.699118  \n",
      "7    29.699118  \n",
      "8    29.699118  \n",
      "9    29.699118  \n",
      "10   29.699118  \n",
      "11   29.699118  \n",
      "12   29.699118  \n",
      "13   29.699118  \n",
      "14   29.699118  \n",
      "15   29.699118  \n",
      "16   29.699118  \n",
      "17   29.699118  \n",
      "18   29.699118  \n",
      "19   29.699118  \n",
      "20   29.699118  \n",
      "21   29.699118  \n",
      "22   29.699118  \n",
      "23   29.699118  \n",
      "24   29.699118  \n",
      "25   29.699118  \n",
      "26   29.699118  \n",
      "27   29.699118  \n",
      "28   29.699118  \n",
      "29   29.699118  \n",
      "..         ...  \n",
      "861  29.699118  \n",
      "862  29.699118  \n",
      "863  29.699118  \n",
      "864  29.699118  \n",
      "865  29.699118  \n",
      "866  29.699118  \n",
      "867  29.699118  \n",
      "868  29.699118  \n",
      "869  29.699118  \n",
      "870  29.699118  \n",
      "871  29.699118  \n",
      "872  29.699118  \n",
      "873  29.699118  \n",
      "874  29.699118  \n",
      "875  29.699118  \n",
      "876  29.699118  \n",
      "877  29.699118  \n",
      "878  29.699118  \n",
      "879  29.699118  \n",
      "880  29.699118  \n",
      "881  29.699118  \n",
      "882  29.699118  \n",
      "883  29.699118  \n",
      "884  29.699118  \n",
      "885  29.699118  \n",
      "886  29.699118  \n",
      "887  29.699118  \n",
      "888  29.699118  \n",
      "889  29.699118  \n",
      "890  29.699118  \n",
      "\n",
      "[891 rows x 12 columns]\n"
     ]
    }
   ],
   "source": [
    "data2=data1.replace(data1[np.isnan(data1['Age'])==True], data1['Age'].mean())\n",
    "print(data2)"
   ]
  },
  {
   "cell_type": "markdown",
   "metadata": {},
   "source": [
    "## Matplotlib\n",
    "\n",
    "Обратите внимание, что за отсутствие названий графиков и подписей к осям могут снижаться баллы! Вообще, все картинки должны быть самодостаточны и визуально удобны для восприятия, так чтобы не нужно было смотреть ваш код или знать задание, чтобы понятно было, что на них изображено.\n",
    "\n",
    "Обратите внимание на функции и методы plt.plot, plt.scatter, plt.legend, plt.title, plt.xlabel, plt.ylabel, plt.fill_between"
   ]
  },
  {
   "cell_type": "markdown",
   "metadata": {
    "collapsed": true
   },
   "source": [
    "#### 1. (3 балла) Используя функцию из задания №5 по numpy (gen_data), отобразите на графике сгенерированную выборку, а также настоящую прямую из которой выборка была получена. Добавьте на этот график прямую, которая приближает выборку, обучив для этого простейшую линейную регрессию. Чтобы получить параметры данной прямой, можно выполнить следующий код:\n",
    "\n",
    "        from sklearn.linear_model import LinearRegression as LR\n",
    "\n",
    "        data_x, data_y = gen_data(...)\n",
    "        regr = LR()\n",
    "        regr.fit(data_x, data_y)\n",
    "        k_learned, b_learned = regr.coef_, regr.intercept_\n",
    "        "
   ]
  },
  {
   "cell_type": "code",
   "execution_count": 4,
   "metadata": {
    "scrolled": false
   },
   "outputs": [
    {
     "data": {
      "image/png": "[encoded data removed]",
      "text/plain": [
       "<IPython.core.display.Image object>"
      ]
     },
     "execution_count": 4,
     "metadata": {},
     "output_type": "execute_result"
    }
   ],
   "source": [
    "# В итоге ваш график должен получиться примерно таким:"
   ]
  },
  {
   "cell_type": "code",
   "execution_count": 156,
   "metadata": {
    "scrolled": true
   },
   "outputs": [
    {
     "data": {
      "text/plain": [
       "[<matplotlib.lines.Line2D at 0x15254c6ff98>]"
      ]
     },
     "execution_count": 156,
     "metadata": {},
     "output_type": "execute_result"
    },
    {
     "data": {
      "image/png": "[encoded data removed]",
      "text/plain": [
       "<matplotlib.figure.Figure at 0x15255a80f98>"
      ]
     },
     "metadata": {},
     "output_type": "display_data"
    }
   ],
   "source": [
    "#from sklearn.linear_model import LinearRegression as LR\n",
    "a=gen_data(np.array([[2], [3]]),1.7, 0.4, 100, 1.7)\n",
    "plt.scatter(a[0], a[1])\n",
    "plt.xlabel('x')\n",
    "plt.ylabel('y=kx+b+random_noise')\n",
    "plt.title('Fitting linear regression to data')\n",
    "k1=np.array(a[0])/ np.array(a[1])\n",
    "yCalc1 = k1*np.array(a[0])\n",
    "plt.plot(a[0],yCalc1)"
   ]
  },
  {
   "cell_type": "markdown",
   "metadata": {},
   "source": [
    "#### 2. (2 балла) Проверьте визуально полученную при выполнении задания №5 по pandas информацию о корреляции между ценой на билет и возрастом пассажира. Для этого предлагается отобразить все данные, откладывая на одной оси возраст пассажира, а на другой цену билета. Каждая точка должна быть визуально оботражена в виде треугольника зеленого цвета, направленного вниз. Сделайте возможность регулировать величину маркера (например, пусть она передается в качестве параметра в функцию, которая рисует график). Обратите внимание на параметры \"marker\", \"s\" и \"c\" функции plt.scatter."
   ]
  },
  {
   "cell_type": "code",
   "execution_count": 5,
   "metadata": {
    "scrolled": false
   },
   "outputs": [
    {
     "data": {
      "image/png": "[encoded data removed]",
      "text/plain": [
       "<IPython.core.display.Image object>"
      ]
     },
     "execution_count": 5,
     "metadata": {},
     "output_type": "execute_result"
    }
   ],
   "source": [
    "# В итоге ваш график должен получиться примерно таким:"
   ]
  },
  {
   "cell_type": "code",
   "execution_count": 77,
   "metadata": {},
   "outputs": [
    {
     "name": "stdout",
     "output_type": "stream",
     "text": [
      "30\n"
     ]
    },
    {
     "data": {
      "text/plain": [
       "<matplotlib.text.Text at 0x15255096e10>"
      ]
     },
     "execution_count": 77,
     "metadata": {},
     "output_type": "execute_result"
    },
    {
     "data": {
      "image/png": "[encoded data removed]",
      "text/plain": [
       "<matplotlib.figure.Figure at 0x15254e81be0>"
      ]
     },
     "metadata": {},
     "output_type": "display_data"
    }
   ],
   "source": [
    "size=int(input())\n",
    "plt.scatter(data1['Age'], data1['Fare'], s=size, marker='v', color='green')\n",
    "plt.xlabel('Age of a passenger')\n",
    "plt.ylabel('Fare paid')\n",
    "plt.title('Correlation between age and fare')"
   ]
  },
  {
   "cell_type": "markdown",
   "metadata": {},
   "source": [
    "#### 3. (3 балла) Отобразите гистограмму распределения возрастов для каждого класса пассажиров (здесь опять нужно использовать данные из заданий по pandas). В результате вы должны получить три гистограммы, которые необходимо отобразить рядом друг с другом используя функцию plt.subplots. Каждая гистограмма должна быть нормирована. Обратите внимание на параметры figsize, sharey, sharex функции plt.subplots. Также полезными могут оказаться параметры bins, normed функции plt.hist"
   ]
  },
  {
   "cell_type": "code",
   "execution_count": 6,
   "metadata": {
    "scrolled": true
   },
   "outputs": [
    {
     "data": {
      "image/png": "[encoded data removed]",
      "text/plain": [
       "<IPython.core.display.Image object>"
      ]
     },
     "execution_count": 6,
     "metadata": {},
     "output_type": "execute_result"
    }
   ],
   "source": [
    "# В итоге ваш график должен получиться примерно таким:"
   ]
  },
  {
   "cell_type": "code",
   "execution_count": 85,
   "metadata": {
    "scrolled": false
   },
   "outputs": [
    {
     "data": {
      "text/plain": [
       "<matplotlib.text.Text at 0x15255d7c9e8>"
      ]
     },
     "execution_count": 85,
     "metadata": {},
     "output_type": "execute_result"
    },
    {
     "data": {
      "image/png": "[encoded data removed]",
      "text/plain": [
       "<matplotlib.figure.Figure at 0x15254ddec88>"
      ]
     },
     "metadata": {},
     "output_type": "display_data"
    }
   ],
   "source": [
    "Survpassengers0=data1[data1['Survived']==1]\n",
    "Survpassengers=Survpassengers0[['Pclass', 'Age']]\n",
    "bins = 30\n",
    "fig, axis = plt.subplots(1, 3, sharey=True, sharex=True)\n",
    "axis[0].hist(Survpassengers[Survpassengers['Pclass']==1]['Age'].dropna(), bins='auto')\n",
    "axis[0].set_xlabel('Age')\n",
    "axis[0].set_ylabel('Scores')\n",
    "axis[0].set_title('Class 1')\n",
    "axis[1].hist(Survpassengers[Survpassengers['Pclass']==2]['Age'].dropna(), bins='auto')\n",
    "axis[1].set_xlabel('Age')\n",
    "axis[1].set_title('Class 2')\n",
    "axis[2].hist(Survpassengers[Survpassengers['Pclass']==3]['Age'].dropna(), bins='auto')\n",
    "axis[2].set_xlabel('Age')\n",
    "axis[2].set_title('Class 3')"
   ]
  },
  {
   "cell_type": "markdown",
   "metadata": {},
   "source": [
    "#### 4. (2 балла) Используя следующую функцию для генерации выборки, отобразите на графике синим цветом функцию y(x), а также ее доверительный интервал в виде закрашенной зеленым цветом области от y[i] - error[i] до y[i] + error[i].\n",
    "\n",
    "        def gen_uncertain_data():\n",
    "            x = np.linspace(0, 30, 100)\n",
    "            y = np.sin(x/6*np.pi) + np.random.normal(0, 0.02, size=x.shape)\n",
    "            error = np.random.normal(0.1, 0.02, size=y.shape)\n",
    "            return x, y, error\n"
   ]
  },
  {
   "cell_type": "code",
   "execution_count": 7,
   "metadata": {},
   "outputs": [
    {
     "data": {
      "image/png": "[encoded data removed]",
      "text/plain": [
       "<IPython.core.display.Image object>"
      ]
     },
     "execution_count": 7,
     "metadata": {},
     "output_type": "execute_result"
    }
   ],
   "source": [
    "# В итоге ваш график должен получиться примерно таким:"
   ]
  },
  {
   "cell_type": "code",
   "execution_count": 82,
   "metadata": {},
   "outputs": [
    {
     "data": {
      "text/plain": [
       "<matplotlib.text.Text at 0x15252ee6a58>"
      ]
     },
     "execution_count": 82,
     "metadata": {},
     "output_type": "execute_result"
    },
    {
     "data": {
      "image/png": "[encoded data removed]",
      "text/plain": [
       "<matplotlib.figure.Figure at 0x15254e88ef0>"
      ]
     },
     "metadata": {},
     "output_type": "display_data"
    }
   ],
   "source": [
    "def gen_uncertain_data():\n",
    "    x = np.linspace(0, 30, 100)\n",
    "    y = np.sin(x/6*np.pi) + np.random.normal(0, 0.02, size=x.shape)\n",
    "    error = np.random.normal(0.1, 0.02, size=y.shape)\n",
    "    return x, y, error\n",
    "b=gen_uncertain_data()\n",
    "plt.plot(b[0],b[1], color='blue')\n",
    "plt.fill_between(b[0], b[1]-b[2], b[1]+b[2], facecolor='green')\n",
    "plt.xlabel('x')\n",
    "plt.ylabel('sin(pi*x/6)+random noise')\n",
    "plt.title('Confidence interval of a function')"
   ]
  },
  {
   "cell_type": "code",
   "execution_count": null,
   "metadata": {
    "collapsed": true
   },
   "outputs": [],
   "source": []
  }
 ],
 "metadata": {
  "kernelspec": {
   "display_name": "Python 3",
   "language": "python",
   "name": "python3"
  },
  "language_info": {
   "codemirror_mode": {
    "name": "ipython",
    "version": 3
   },
   "file_extension": ".py",
   "mimetype": "text/x-python",
   "name": "python",
   "nbconvert_exporter": "python",
   "pygments_lexer": "ipython3",
   "version": "3.6.5"
  }
 },
 "nbformat": 4,
 "nbformat_minor": 1
}
